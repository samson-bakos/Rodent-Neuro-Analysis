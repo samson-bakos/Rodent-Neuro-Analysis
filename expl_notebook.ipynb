{
 "cells": [
  {
   "cell_type": "code",
   "execution_count": 1,
   "id": "a7237c2a-ce4e-4b86-91cb-ff536c0b96f9",
   "metadata": {},
   "outputs": [
    {
     "name": "stderr",
     "output_type": "stream",
     "text": [
      "── \u001b[1mAttaching packages\u001b[22m ─────────────────────────────────────── tidyverse 1.3.2 ──\n",
      "\u001b[32m✔\u001b[39m \u001b[34mggplot2\u001b[39m 3.3.6     \u001b[32m✔\u001b[39m \u001b[34mpurrr  \u001b[39m 0.3.4\n",
      "\u001b[32m✔\u001b[39m \u001b[34mtibble \u001b[39m 3.1.8     \u001b[32m✔\u001b[39m \u001b[34mdplyr  \u001b[39m 1.0.9\n",
      "\u001b[32m✔\u001b[39m \u001b[34mtidyr  \u001b[39m 1.2.0     \u001b[32m✔\u001b[39m \u001b[34mstringr\u001b[39m 1.4.1\n",
      "\u001b[32m✔\u001b[39m \u001b[34mreadr  \u001b[39m 2.1.2     \u001b[32m✔\u001b[39m \u001b[34mforcats\u001b[39m 0.5.2\n",
      "── \u001b[1mConflicts\u001b[22m ────────────────────────────────────────── tidyverse_conflicts() ──\n",
      "\u001b[31m✖\u001b[39m \u001b[34mdplyr\u001b[39m::\u001b[32mfilter()\u001b[39m masks \u001b[34mstats\u001b[39m::filter()\n",
      "\u001b[31m✖\u001b[39m \u001b[34mdplyr\u001b[39m::\u001b[32mlag()\u001b[39m    masks \u001b[34mstats\u001b[39m::lag()\n"
     ]
    }
   ],
   "source": [
    "library(tidyverse)\n",
    "library(readxl)\n",
    "library(broom)"
   ]
  },
  {
   "cell_type": "code",
   "execution_count": 2,
   "id": "9633bb40-570b-4d6f-8c7c-f8f83560caab",
   "metadata": {},
   "outputs": [],
   "source": [
    "data <- read_excel(\"data/raw_elisa_data.xlsx\")\n",
    "# tidy data\n",
    "data <- data[-c(1:4, 8, 9, 11, 12, 14, 15, 17)]\n",
    "colnames(data) <- c(\"sex\", \"treatment\", \"stimulus\", \"CV1\", \"CV2\", \"CV3\", \"IGFBP3\", \"IGF1\")\n",
    "data <- data |> \n",
    "    filter(CV1<20 & CV2<20 & CV3<30)|> \n",
    "    select(-c(\"CV1\", \"CV2\", \"CV3\"))|> \n",
    "    mutate(treatment = case_when(treatment == \"Water\" ~ \"water\",\n",
    "                                 treatment == \"Sucrose\" ~ \"sucrose\", \n",
    "                                 TRUE ~ as.character(treatment)))|> \n",
    "    mutate(stimulus = case_when(stimulus == \"Handle\" ~ \"handle\",\n",
    "                                stimulus == \"Needle\" ~ \"needle\",\n",
    "                                stimulus == \"Pressure\" ~ \"pressure\",\n",
    "                                TRUE ~ as.character(stimulus)))"
   ]
  },
  {
   "cell_type": "code",
   "execution_count": 3,
   "id": "1d43df64-fbba-428b-a651-8172abc744c4",
   "metadata": {},
   "outputs": [
    {
     "data": {
      "text/html": [
       "<table class=\"dataframe\">\n",
       "<caption>A tibble: 6 × 5</caption>\n",
       "<thead>\n",
       "\t<tr><th scope=col>sex</th><th scope=col>treatment</th><th scope=col>stimulus</th><th scope=col>IGFBP3</th><th scope=col>IGF1</th></tr>\n",
       "\t<tr><th scope=col>&lt;chr&gt;</th><th scope=col>&lt;chr&gt;</th><th scope=col>&lt;chr&gt;</th><th scope=col>&lt;dbl&gt;</th><th scope=col>&lt;dbl&gt;</th></tr>\n",
       "</thead>\n",
       "<tbody>\n",
       "\t<tr><td>F</td><td>sucrose</td><td>pressure</td><td>0.0002226082</td><td>6.159189e-06</td></tr>\n",
       "\t<tr><td>F</td><td>sucrose</td><td>needle  </td><td>0.0002600661</td><td>5.697212e-06</td></tr>\n",
       "\t<tr><td>M</td><td>water  </td><td>needle  </td><td>0.0002794693</td><td>5.294438e-06</td></tr>\n",
       "\t<tr><td>F</td><td>water  </td><td>pressure</td><td>0.0003398651</td><td>5.819291e-06</td></tr>\n",
       "\t<tr><td>M</td><td>sucrose</td><td>handle  </td><td>0.0002621692</td><td>9.358682e-06</td></tr>\n",
       "\t<tr><td>M</td><td>water  </td><td>handle  </td><td>0.0003166086</td><td>4.394378e-06</td></tr>\n",
       "</tbody>\n",
       "</table>\n"
      ],
      "text/latex": [
       "A tibble: 6 × 5\n",
       "\\begin{tabular}{lllll}\n",
       " sex & treatment & stimulus & IGFBP3 & IGF1\\\\\n",
       " <chr> & <chr> & <chr> & <dbl> & <dbl>\\\\\n",
       "\\hline\n",
       "\t F & sucrose & pressure & 0.0002226082 & 6.159189e-06\\\\\n",
       "\t F & sucrose & needle   & 0.0002600661 & 5.697212e-06\\\\\n",
       "\t M & water   & needle   & 0.0002794693 & 5.294438e-06\\\\\n",
       "\t F & water   & pressure & 0.0003398651 & 5.819291e-06\\\\\n",
       "\t M & sucrose & handle   & 0.0002621692 & 9.358682e-06\\\\\n",
       "\t M & water   & handle   & 0.0003166086 & 4.394378e-06\\\\\n",
       "\\end{tabular}\n"
      ],
      "text/markdown": [
       "\n",
       "A tibble: 6 × 5\n",
       "\n",
       "| sex &lt;chr&gt; | treatment &lt;chr&gt; | stimulus &lt;chr&gt; | IGFBP3 &lt;dbl&gt; | IGF1 &lt;dbl&gt; |\n",
       "|---|---|---|---|---|\n",
       "| F | sucrose | pressure | 0.0002226082 | 6.159189e-06 |\n",
       "| F | sucrose | needle   | 0.0002600661 | 5.697212e-06 |\n",
       "| M | water   | needle   | 0.0002794693 | 5.294438e-06 |\n",
       "| F | water   | pressure | 0.0003398651 | 5.819291e-06 |\n",
       "| M | sucrose | handle   | 0.0002621692 | 9.358682e-06 |\n",
       "| M | water   | handle   | 0.0003166086 | 4.394378e-06 |\n",
       "\n"
      ],
      "text/plain": [
       "  sex treatment stimulus IGFBP3       IGF1        \n",
       "1 F   sucrose   pressure 0.0002226082 6.159189e-06\n",
       "2 F   sucrose   needle   0.0002600661 5.697212e-06\n",
       "3 M   water     needle   0.0002794693 5.294438e-06\n",
       "4 F   water     pressure 0.0003398651 5.819291e-06\n",
       "5 M   sucrose   handle   0.0002621692 9.358682e-06\n",
       "6 M   water     handle   0.0003166086 4.394378e-06"
      ]
     },
     "metadata": {},
     "output_type": "display_data"
    }
   ],
   "source": [
    "head(data)\n"
   ]
  },
  {
   "cell_type": "markdown",
   "id": "61dad152-8198-4c0d-9e8c-c1ac5fb25c05",
   "metadata": {},
   "source": [
    "# Sex"
   ]
  },
  {
   "cell_type": "code",
   "execution_count": 4,
   "id": "e1ff9ea8-46e9-4a5f-a534-e9e6b84d7ccd",
   "metadata": {},
   "outputs": [
    {
     "data": {
      "text/html": [
       "<table class=\"dataframe\">\n",
       "<caption>A tibble: 2 × 5</caption>\n",
       "<thead>\n",
       "\t<tr><th scope=col>term</th><th scope=col>estimate</th><th scope=col>std.error</th><th scope=col>statistic</th><th scope=col>p.value</th></tr>\n",
       "\t<tr><th scope=col>&lt;chr&gt;</th><th scope=col>&lt;dbl&gt;</th><th scope=col>&lt;dbl&gt;</th><th scope=col>&lt;dbl&gt;</th><th scope=col>&lt;dbl&gt;</th></tr>\n",
       "</thead>\n",
       "<tbody>\n",
       "\t<tr><td>(Intercept)</td><td> 6.976059e-06</td><td>4.774864e-07</td><td>14.6099646</td><td>1.888112e-26</td></tr>\n",
       "\t<tr><td>sexM       </td><td>-2.390272e-07</td><td>6.855255e-07</td><td>-0.3486773</td><td>7.280720e-01</td></tr>\n",
       "</tbody>\n",
       "</table>\n"
      ],
      "text/latex": [
       "A tibble: 2 × 5\n",
       "\\begin{tabular}{lllll}\n",
       " term & estimate & std.error & statistic & p.value\\\\\n",
       " <chr> & <dbl> & <dbl> & <dbl> & <dbl>\\\\\n",
       "\\hline\n",
       "\t (Intercept) &  6.976059e-06 & 4.774864e-07 & 14.6099646 & 1.888112e-26\\\\\n",
       "\t sexM        & -2.390272e-07 & 6.855255e-07 & -0.3486773 & 7.280720e-01\\\\\n",
       "\\end{tabular}\n"
      ],
      "text/markdown": [
       "\n",
       "A tibble: 2 × 5\n",
       "\n",
       "| term &lt;chr&gt; | estimate &lt;dbl&gt; | std.error &lt;dbl&gt; | statistic &lt;dbl&gt; | p.value &lt;dbl&gt; |\n",
       "|---|---|---|---|---|\n",
       "| (Intercept) |  6.976059e-06 | 4.774864e-07 | 14.6099646 | 1.888112e-26 |\n",
       "| sexM        | -2.390272e-07 | 6.855255e-07 | -0.3486773 | 7.280720e-01 |\n",
       "\n"
      ],
      "text/plain": [
       "  term        estimate      std.error    statistic  p.value     \n",
       "1 (Intercept)  6.976059e-06 4.774864e-07 14.6099646 1.888112e-26\n",
       "2 sexM        -2.390272e-07 6.855255e-07 -0.3486773 7.280720e-01"
      ]
     },
     "metadata": {},
     "output_type": "display_data"
    }
   ],
   "source": [
    "# pretty sure sex doesnt matter, but just to check\n",
    "lm_igf1_sex <- lm(IGF1~ sex, data)\n",
    "tidy(lm_igf1_sex)\n"
   ]
  },
  {
   "cell_type": "code",
   "execution_count": 5,
   "id": "3b9cd706-bf72-4bc2-acef-54a577f1899c",
   "metadata": {},
   "outputs": [
    {
     "data": {
      "text/html": [
       "<table class=\"dataframe\">\n",
       "<caption>A tibble: 2 × 5</caption>\n",
       "<thead>\n",
       "\t<tr><th scope=col>term</th><th scope=col>estimate</th><th scope=col>std.error</th><th scope=col>statistic</th><th scope=col>p.value</th></tr>\n",
       "\t<tr><th scope=col>&lt;chr&gt;</th><th scope=col>&lt;dbl&gt;</th><th scope=col>&lt;dbl&gt;</th><th scope=col>&lt;dbl&gt;</th><th scope=col>&lt;dbl&gt;</th></tr>\n",
       "</thead>\n",
       "<tbody>\n",
       "\t<tr><td>(Intercept)</td><td> 2.658054e-04</td><td>1.470978e-05</td><td>18.06998091</td><td>4.087206e-33</td></tr>\n",
       "\t<tr><td>sexM       </td><td>-1.302992e-06</td><td>2.111878e-05</td><td>-0.06169826</td><td>9.509275e-01</td></tr>\n",
       "</tbody>\n",
       "</table>\n"
      ],
      "text/latex": [
       "A tibble: 2 × 5\n",
       "\\begin{tabular}{lllll}\n",
       " term & estimate & std.error & statistic & p.value\\\\\n",
       " <chr> & <dbl> & <dbl> & <dbl> & <dbl>\\\\\n",
       "\\hline\n",
       "\t (Intercept) &  2.658054e-04 & 1.470978e-05 & 18.06998091 & 4.087206e-33\\\\\n",
       "\t sexM        & -1.302992e-06 & 2.111878e-05 & -0.06169826 & 9.509275e-01\\\\\n",
       "\\end{tabular}\n"
      ],
      "text/markdown": [
       "\n",
       "A tibble: 2 × 5\n",
       "\n",
       "| term &lt;chr&gt; | estimate &lt;dbl&gt; | std.error &lt;dbl&gt; | statistic &lt;dbl&gt; | p.value &lt;dbl&gt; |\n",
       "|---|---|---|---|---|\n",
       "| (Intercept) |  2.658054e-04 | 1.470978e-05 | 18.06998091 | 4.087206e-33 |\n",
       "| sexM        | -1.302992e-06 | 2.111878e-05 | -0.06169826 | 9.509275e-01 |\n",
       "\n"
      ],
      "text/plain": [
       "  term        estimate      std.error    statistic   p.value     \n",
       "1 (Intercept)  2.658054e-04 1.470978e-05 18.06998091 4.087206e-33\n",
       "2 sexM        -1.302992e-06 2.111878e-05 -0.06169826 9.509275e-01"
      ]
     },
     "metadata": {},
     "output_type": "display_data"
    }
   ],
   "source": [
    "lm_igfbp3_sex <- lm(IGFBP3~ sex, data)\n",
    "tidy(lm_igfbp3_sex)"
   ]
  },
  {
   "cell_type": "code",
   "execution_count": 6,
   "id": "23dbb12c-d167-49d1-83c5-95e1eba643fb",
   "metadata": {},
   "outputs": [],
   "source": [
    "data <- data|> \n",
    "    select(-sex)"
   ]
  },
  {
   "cell_type": "markdown",
   "id": "4d177ba7-7b1f-4f38-b5d4-31571a003eec",
   "metadata": {},
   "source": [
    "# IGF1"
   ]
  },
  {
   "cell_type": "code",
   "execution_count": 7,
   "id": "baf61ec2-fa81-4c9d-94db-fde6f7911305",
   "metadata": {},
   "outputs": [
    {
     "data": {
      "text/html": [
       "<table class=\"dataframe\">\n",
       "<caption>A tibble: 3 × 5</caption>\n",
       "<thead>\n",
       "\t<tr><th scope=col>term</th><th scope=col>estimate</th><th scope=col>std.error</th><th scope=col>statistic</th><th scope=col>p.value</th></tr>\n",
       "\t<tr><th scope=col>&lt;chr&gt;</th><th scope=col>&lt;dbl&gt;</th><th scope=col>&lt;dbl&gt;</th><th scope=col>&lt;dbl&gt;</th><th scope=col>&lt;dbl&gt;</th></tr>\n",
       "</thead>\n",
       "<tbody>\n",
       "\t<tr><td>(Intercept)     </td><td>4.270462e-06</td><td>1.271009e-06</td><td>3.359900</td><td>0.00111218</td></tr>\n",
       "\t<tr><td>treatmentsucrose</td><td>3.175543e-06</td><td>1.357066e-06</td><td>2.340006</td><td>0.02131154</td></tr>\n",
       "\t<tr><td>treatmentwater  </td><td>2.335813e-06</td><td>1.368382e-06</td><td>1.706989</td><td>0.09099070</td></tr>\n",
       "</tbody>\n",
       "</table>\n"
      ],
      "text/latex": [
       "A tibble: 3 × 5\n",
       "\\begin{tabular}{lllll}\n",
       " term & estimate & std.error & statistic & p.value\\\\\n",
       " <chr> & <dbl> & <dbl> & <dbl> & <dbl>\\\\\n",
       "\\hline\n",
       "\t (Intercept)      & 4.270462e-06 & 1.271009e-06 & 3.359900 & 0.00111218\\\\\n",
       "\t treatmentsucrose & 3.175543e-06 & 1.357066e-06 & 2.340006 & 0.02131154\\\\\n",
       "\t treatmentwater   & 2.335813e-06 & 1.368382e-06 & 1.706989 & 0.09099070\\\\\n",
       "\\end{tabular}\n"
      ],
      "text/markdown": [
       "\n",
       "A tibble: 3 × 5\n",
       "\n",
       "| term &lt;chr&gt; | estimate &lt;dbl&gt; | std.error &lt;dbl&gt; | statistic &lt;dbl&gt; | p.value &lt;dbl&gt; |\n",
       "|---|---|---|---|---|\n",
       "| (Intercept)      | 4.270462e-06 | 1.271009e-06 | 3.359900 | 0.00111218 |\n",
       "| treatmentsucrose | 3.175543e-06 | 1.357066e-06 | 2.340006 | 0.02131154 |\n",
       "| treatmentwater   | 2.335813e-06 | 1.368382e-06 | 1.706989 | 0.09099070 |\n",
       "\n"
      ],
      "text/plain": [
       "  term             estimate     std.error    statistic p.value   \n",
       "1 (Intercept)      4.270462e-06 1.271009e-06 3.359900  0.00111218\n",
       "2 treatmentsucrose 3.175543e-06 1.357066e-06 2.340006  0.02131154\n",
       "3 treatmentwater   2.335813e-06 1.368382e-06 1.706989  0.09099070"
      ]
     },
     "metadata": {},
     "output_type": "display_data"
    }
   ],
   "source": [
    "lm_igf1_treat <- lm(IGF1~ treatment, data)\n",
    "tidy(lm_igf1_treat)\n",
    "#Sucrose significant?"
   ]
  },
  {
   "cell_type": "code",
   "execution_count": 8,
   "id": "864b8b51-9403-40f0-9d87-bbb572dce468",
   "metadata": {},
   "outputs": [
    {
     "data": {
      "text/html": [
       "<table class=\"dataframe\">\n",
       "<caption>A tibble: 4 × 5</caption>\n",
       "<thead>\n",
       "\t<tr><th scope=col>term</th><th scope=col>estimate</th><th scope=col>std.error</th><th scope=col>statistic</th><th scope=col>p.value</th></tr>\n",
       "\t<tr><th scope=col>&lt;chr&gt;</th><th scope=col>&lt;dbl&gt;</th><th scope=col>&lt;dbl&gt;</th><th scope=col>&lt;dbl&gt;</th><th scope=col>&lt;dbl&gt;</th></tr>\n",
       "</thead>\n",
       "<tbody>\n",
       "\t<tr><td>(Intercept)     </td><td>4.270462e-06</td><td>1.265396e-06</td><td>3.374804</td><td>0.001063318</td></tr>\n",
       "\t<tr><td>stimulushandle  </td><td>2.401795e-06</td><td>1.400997e-06</td><td>1.714346</td><td>0.089658718</td></tr>\n",
       "\t<tr><td>stimulusneedle  </td><td>2.236757e-06</td><td>1.405292e-06</td><td>1.591667</td><td>0.114713379</td></tr>\n",
       "\t<tr><td>stimuluspressure</td><td>3.636199e-06</td><td>1.393155e-06</td><td>2.610047</td><td>0.010487759</td></tr>\n",
       "</tbody>\n",
       "</table>\n"
      ],
      "text/latex": [
       "A tibble: 4 × 5\n",
       "\\begin{tabular}{lllll}\n",
       " term & estimate & std.error & statistic & p.value\\\\\n",
       " <chr> & <dbl> & <dbl> & <dbl> & <dbl>\\\\\n",
       "\\hline\n",
       "\t (Intercept)      & 4.270462e-06 & 1.265396e-06 & 3.374804 & 0.001063318\\\\\n",
       "\t stimulushandle   & 2.401795e-06 & 1.400997e-06 & 1.714346 & 0.089658718\\\\\n",
       "\t stimulusneedle   & 2.236757e-06 & 1.405292e-06 & 1.591667 & 0.114713379\\\\\n",
       "\t stimuluspressure & 3.636199e-06 & 1.393155e-06 & 2.610047 & 0.010487759\\\\\n",
       "\\end{tabular}\n"
      ],
      "text/markdown": [
       "\n",
       "A tibble: 4 × 5\n",
       "\n",
       "| term &lt;chr&gt; | estimate &lt;dbl&gt; | std.error &lt;dbl&gt; | statistic &lt;dbl&gt; | p.value &lt;dbl&gt; |\n",
       "|---|---|---|---|---|\n",
       "| (Intercept)      | 4.270462e-06 | 1.265396e-06 | 3.374804 | 0.001063318 |\n",
       "| stimulushandle   | 2.401795e-06 | 1.400997e-06 | 1.714346 | 0.089658718 |\n",
       "| stimulusneedle   | 2.236757e-06 | 1.405292e-06 | 1.591667 | 0.114713379 |\n",
       "| stimuluspressure | 3.636199e-06 | 1.393155e-06 | 2.610047 | 0.010487759 |\n",
       "\n"
      ],
      "text/plain": [
       "  term             estimate     std.error    statistic p.value    \n",
       "1 (Intercept)      4.270462e-06 1.265396e-06 3.374804  0.001063318\n",
       "2 stimulushandle   2.401795e-06 1.400997e-06 1.714346  0.089658718\n",
       "3 stimulusneedle   2.236757e-06 1.405292e-06 1.591667  0.114713379\n",
       "4 stimuluspressure 3.636199e-06 1.393155e-06 2.610047  0.010487759"
      ]
     },
     "metadata": {},
     "output_type": "display_data"
    }
   ],
   "source": [
    "lm_igf1_stim <- lm(IGF1 ~ stimulus, data)\n",
    "tidy(lm_igf1_stim) \n",
    "#Pressure Significant?"
   ]
  },
  {
   "cell_type": "markdown",
   "id": "fab19df2-ca42-4ad4-85ef-0e8c7d8c9df8",
   "metadata": {},
   "source": []
  },
  {
   "cell_type": "code",
   "execution_count": 9,
   "id": "0ec3fada-535f-4cc5-be4d-63ef28e1aaa6",
   "metadata": {},
   "outputs": [
    {
     "data": {
      "text/html": [
       "<table class=\"dataframe\">\n",
       "<caption>A tibble: 1 × 12</caption>\n",
       "<thead>\n",
       "\t<tr><th scope=col>r.squared</th><th scope=col>adj.r.squared</th><th scope=col>sigma</th><th scope=col>statistic</th><th scope=col>p.value</th><th scope=col>df</th><th scope=col>logLik</th><th scope=col>AIC</th><th scope=col>BIC</th><th scope=col>deviance</th><th scope=col>df.residual</th><th scope=col>nobs</th></tr>\n",
       "\t<tr><th scope=col>&lt;dbl&gt;</th><th scope=col>&lt;dbl&gt;</th><th scope=col>&lt;dbl&gt;</th><th scope=col>&lt;dbl&gt;</th><th scope=col>&lt;dbl&gt;</th><th scope=col>&lt;dbl&gt;</th><th scope=col>&lt;dbl&gt;</th><th scope=col>&lt;dbl&gt;</th><th scope=col>&lt;dbl&gt;</th><th scope=col>&lt;dbl&gt;</th><th scope=col>&lt;int&gt;</th><th scope=col>&lt;int&gt;</th></tr>\n",
       "</thead>\n",
       "<tbody>\n",
       "\t<tr><td>0.07481403</td><td>0.04620003</td><td>3.347923e-06</td><td>2.614596</td><td>0.05550757</td><td>3</td><td>1132.052</td><td>-2254.104</td><td>-2241.029</td><td>1.087233e-09</td><td>97</td><td>101</td></tr>\n",
       "</tbody>\n",
       "</table>\n"
      ],
      "text/latex": [
       "A tibble: 1 × 12\n",
       "\\begin{tabular}{llllllllllll}\n",
       " r.squared & adj.r.squared & sigma & statistic & p.value & df & logLik & AIC & BIC & deviance & df.residual & nobs\\\\\n",
       " <dbl> & <dbl> & <dbl> & <dbl> & <dbl> & <dbl> & <dbl> & <dbl> & <dbl> & <dbl> & <int> & <int>\\\\\n",
       "\\hline\n",
       "\t 0.07481403 & 0.04620003 & 3.347923e-06 & 2.614596 & 0.05550757 & 3 & 1132.052 & -2254.104 & -2241.029 & 1.087233e-09 & 97 & 101\\\\\n",
       "\\end{tabular}\n"
      ],
      "text/markdown": [
       "\n",
       "A tibble: 1 × 12\n",
       "\n",
       "| r.squared &lt;dbl&gt; | adj.r.squared &lt;dbl&gt; | sigma &lt;dbl&gt; | statistic &lt;dbl&gt; | p.value &lt;dbl&gt; | df &lt;dbl&gt; | logLik &lt;dbl&gt; | AIC &lt;dbl&gt; | BIC &lt;dbl&gt; | deviance &lt;dbl&gt; | df.residual &lt;int&gt; | nobs &lt;int&gt; |\n",
       "|---|---|---|---|---|---|---|---|---|---|---|---|\n",
       "| 0.07481403 | 0.04620003 | 3.347923e-06 | 2.614596 | 0.05550757 | 3 | 1132.052 | -2254.104 | -2241.029 | 1.087233e-09 | 97 | 101 |\n",
       "\n"
      ],
      "text/plain": [
       "  r.squared  adj.r.squared sigma        statistic p.value    df logLik  \n",
       "1 0.07481403 0.04620003    3.347923e-06 2.614596  0.05550757 3  1132.052\n",
       "  AIC       BIC       deviance     df.residual nobs\n",
       "1 -2254.104 -2241.029 1.087233e-09 97          101 "
      ]
     },
     "metadata": {},
     "output_type": "display_data"
    }
   ],
   "source": [
    "glance(lm_igf1_stim)"
   ]
  },
  {
   "cell_type": "code",
   "execution_count": 10,
   "id": "78b9a137-7cff-4f9b-89d1-f6e4b0353c16",
   "metadata": {},
   "outputs": [
    {
     "data": {
      "text/html": [
       "<table class=\"dataframe\">\n",
       "<caption>A tibble: 1 × 12</caption>\n",
       "<thead>\n",
       "\t<tr><th scope=col>r.squared</th><th scope=col>adj.r.squared</th><th scope=col>sigma</th><th scope=col>statistic</th><th scope=col>p.value</th><th scope=col>df</th><th scope=col>logLik</th><th scope=col>AIC</th><th scope=col>BIC</th><th scope=col>deviance</th><th scope=col>df.residual</th><th scope=col>nobs</th></tr>\n",
       "\t<tr><th scope=col>&lt;dbl&gt;</th><th scope=col>&lt;dbl&gt;</th><th scope=col>&lt;dbl&gt;</th><th scope=col>&lt;dbl&gt;</th><th scope=col>&lt;dbl&gt;</th><th scope=col>&lt;dbl&gt;</th><th scope=col>&lt;dbl&gt;</th><th scope=col>&lt;dbl&gt;</th><th scope=col>&lt;dbl&gt;</th><th scope=col>&lt;dbl&gt;</th><th scope=col>&lt;int&gt;</th><th scope=col>&lt;int&gt;</th></tr>\n",
       "</thead>\n",
       "<tbody>\n",
       "\t<tr><td>0.05696512</td><td>0.03771951</td><td>3.362773e-06</td><td>2.959902</td><td>0.05647551</td><td>2</td><td>1131.087</td><td>-2254.174</td><td>-2243.714</td><td>1.108208e-09</td><td>98</td><td>101</td></tr>\n",
       "</tbody>\n",
       "</table>\n"
      ],
      "text/latex": [
       "A tibble: 1 × 12\n",
       "\\begin{tabular}{llllllllllll}\n",
       " r.squared & adj.r.squared & sigma & statistic & p.value & df & logLik & AIC & BIC & deviance & df.residual & nobs\\\\\n",
       " <dbl> & <dbl> & <dbl> & <dbl> & <dbl> & <dbl> & <dbl> & <dbl> & <dbl> & <dbl> & <int> & <int>\\\\\n",
       "\\hline\n",
       "\t 0.05696512 & 0.03771951 & 3.362773e-06 & 2.959902 & 0.05647551 & 2 & 1131.087 & -2254.174 & -2243.714 & 1.108208e-09 & 98 & 101\\\\\n",
       "\\end{tabular}\n"
      ],
      "text/markdown": [
       "\n",
       "A tibble: 1 × 12\n",
       "\n",
       "| r.squared &lt;dbl&gt; | adj.r.squared &lt;dbl&gt; | sigma &lt;dbl&gt; | statistic &lt;dbl&gt; | p.value &lt;dbl&gt; | df &lt;dbl&gt; | logLik &lt;dbl&gt; | AIC &lt;dbl&gt; | BIC &lt;dbl&gt; | deviance &lt;dbl&gt; | df.residual &lt;int&gt; | nobs &lt;int&gt; |\n",
       "|---|---|---|---|---|---|---|---|---|---|---|---|\n",
       "| 0.05696512 | 0.03771951 | 3.362773e-06 | 2.959902 | 0.05647551 | 2 | 1131.087 | -2254.174 | -2243.714 | 1.108208e-09 | 98 | 101 |\n",
       "\n"
      ],
      "text/plain": [
       "  r.squared  adj.r.squared sigma        statistic p.value    df logLik  \n",
       "1 0.05696512 0.03771951    3.362773e-06 2.959902  0.05647551 2  1131.087\n",
       "  AIC       BIC       deviance     df.residual nobs\n",
       "1 -2254.174 -2243.714 1.108208e-09 98          101 "
      ]
     },
     "metadata": {},
     "output_type": "display_data"
    }
   ],
   "source": [
    "glance(lm_igf1_treat)"
   ]
  },
  {
   "cell_type": "markdown",
   "id": "748196bb-8bd8-4779-8bad-6d9ecae68367",
   "metadata": {},
   "source": [
    "Repeat process for IGFBP3, then use nested model ANOVA to test if interaction models are better than base model (which is equivalent to null model)."
   ]
  },
  {
   "cell_type": "markdown",
   "id": "1bcf50fe-bb0d-40bc-9959-3796d5283f8b",
   "metadata": {},
   "source": [
    "# IGFBP3"
   ]
  },
  {
   "cell_type": "code",
   "execution_count": null,
   "id": "121ed29b-4214-4d72-bf20-15f1396fcd7a",
   "metadata": {},
   "outputs": [],
   "source": []
  }
 ],
 "metadata": {
  "kernelspec": {
   "display_name": "R",
   "language": "R",
   "name": "ir"
  },
  "language_info": {
   "codemirror_mode": "r",
   "file_extension": ".r",
   "mimetype": "text/x-r-source",
   "name": "R",
   "pygments_lexer": "r",
   "version": "4.2.1"
  }
 },
 "nbformat": 4,
 "nbformat_minor": 5
}
