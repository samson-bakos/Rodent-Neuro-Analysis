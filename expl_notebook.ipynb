{
 "cells": [
  {
   "cell_type": "code",
   "execution_count": 18,
   "id": "a7237c2a-ce4e-4b86-91cb-ff536c0b96f9",
   "metadata": {},
   "outputs": [],
   "source": [
    "library(tidyverse)\n",
    "library(readxl)\n",
    "library(broom)"
   ]
  },
  {
   "cell_type": "code",
   "execution_count": 29,
   "id": "9633bb40-570b-4d6f-8c7c-f8f83560caab",
   "metadata": {},
   "outputs": [],
   "source": [
    "data <- read_excel(\"data/raw_elisa_data.xlsx\")\n",
    "# tidy data\n",
    "data <- data[-c(1:4, 8, 9, 11, 12, 14, 15, 17)]\n",
    "colnames(data) <- c(\"sex\", \"treatment\", \"stimulus\", \"CV1\", \"CV2\", \"CV3\", \"IGFBP3\", \"IGF1\")\n",
    "data <- data |> \n",
    "    filter(CV1<20 & CV2<20 & CV3<30)|> \n",
    "    select(-c(\"CV1\", \"CV2\", \"CV3\"))|> \n",
    "    mutate(treatment = case_when(treatment == \"Water\" ~ \"water\",\n",
    "                                 treatment == \"Sucrose\" ~ \"sucrose\", \n",
    "                                 TRUE ~ as.character(treatment)))|> \n",
    "    mutate(stimulus = case_when(stimulus == \"Handle\" ~ \"handle\",\n",
    "                                stimulus == \"Needle\" ~ \"needle\",\n",
    "                                stimulus == \"Pressure\" ~ \"pressure\",\n",
    "                                TRUE ~ as.character(stimulus)))"
   ]
  },
  {
   "cell_type": "code",
   "execution_count": 30,
   "id": "1d43df64-fbba-428b-a651-8172abc744c4",
   "metadata": {},
   "outputs": [
    {
     "data": {
      "text/html": [
       "<table class=\"dataframe\">\n",
       "<caption>A tibble: 6 × 5</caption>\n",
       "<thead>\n",
       "\t<tr><th scope=col>sex</th><th scope=col>treatment</th><th scope=col>stimulus</th><th scope=col>IGFBP3</th><th scope=col>IGF1</th></tr>\n",
       "\t<tr><th scope=col>&lt;chr&gt;</th><th scope=col>&lt;chr&gt;</th><th scope=col>&lt;chr&gt;</th><th scope=col>&lt;dbl&gt;</th><th scope=col>&lt;dbl&gt;</th></tr>\n",
       "</thead>\n",
       "<tbody>\n",
       "\t<tr><td>F</td><td>sucrose</td><td>pressure</td><td>0.0002226082</td><td>6.159189e-06</td></tr>\n",
       "\t<tr><td>F</td><td>sucrose</td><td>needle  </td><td>0.0002600661</td><td>5.697212e-06</td></tr>\n",
       "\t<tr><td>M</td><td>water  </td><td>needle  </td><td>0.0002794693</td><td>5.294438e-06</td></tr>\n",
       "\t<tr><td>F</td><td>water  </td><td>pressure</td><td>0.0003398651</td><td>5.819291e-06</td></tr>\n",
       "\t<tr><td>M</td><td>sucrose</td><td>handle  </td><td>0.0002621692</td><td>9.358682e-06</td></tr>\n",
       "\t<tr><td>M</td><td>water  </td><td>handle  </td><td>0.0003166086</td><td>4.394378e-06</td></tr>\n",
       "</tbody>\n",
       "</table>\n"
      ],
      "text/latex": [
       "A tibble: 6 × 5\n",
       "\\begin{tabular}{lllll}\n",
       " sex & treatment & stimulus & IGFBP3 & IGF1\\\\\n",
       " <chr> & <chr> & <chr> & <dbl> & <dbl>\\\\\n",
       "\\hline\n",
       "\t F & sucrose & pressure & 0.0002226082 & 6.159189e-06\\\\\n",
       "\t F & sucrose & needle   & 0.0002600661 & 5.697212e-06\\\\\n",
       "\t M & water   & needle   & 0.0002794693 & 5.294438e-06\\\\\n",
       "\t F & water   & pressure & 0.0003398651 & 5.819291e-06\\\\\n",
       "\t M & sucrose & handle   & 0.0002621692 & 9.358682e-06\\\\\n",
       "\t M & water   & handle   & 0.0003166086 & 4.394378e-06\\\\\n",
       "\\end{tabular}\n"
      ],
      "text/markdown": [
       "\n",
       "A tibble: 6 × 5\n",
       "\n",
       "| sex &lt;chr&gt; | treatment &lt;chr&gt; | stimulus &lt;chr&gt; | IGFBP3 &lt;dbl&gt; | IGF1 &lt;dbl&gt; |\n",
       "|---|---|---|---|---|\n",
       "| F | sucrose | pressure | 0.0002226082 | 6.159189e-06 |\n",
       "| F | sucrose | needle   | 0.0002600661 | 5.697212e-06 |\n",
       "| M | water   | needle   | 0.0002794693 | 5.294438e-06 |\n",
       "| F | water   | pressure | 0.0003398651 | 5.819291e-06 |\n",
       "| M | sucrose | handle   | 0.0002621692 | 9.358682e-06 |\n",
       "| M | water   | handle   | 0.0003166086 | 4.394378e-06 |\n",
       "\n"
      ],
      "text/plain": [
       "  sex treatment stimulus IGFBP3       IGF1        \n",
       "1 F   sucrose   pressure 0.0002226082 6.159189e-06\n",
       "2 F   sucrose   needle   0.0002600661 5.697212e-06\n",
       "3 M   water     needle   0.0002794693 5.294438e-06\n",
       "4 F   water     pressure 0.0003398651 5.819291e-06\n",
       "5 M   sucrose   handle   0.0002621692 9.358682e-06\n",
       "6 M   water     handle   0.0003166086 4.394378e-06"
      ]
     },
     "metadata": {},
     "output_type": "display_data"
    }
   ],
   "source": [
    "head(data)\n"
   ]
  },
  {
   "cell_type": "code",
   "execution_count": 31,
   "id": "e1ff9ea8-46e9-4a5f-a534-e9e6b84d7ccd",
   "metadata": {},
   "outputs": [
    {
     "data": {
      "text/html": [
       "<table class=\"dataframe\">\n",
       "<caption>A tibble: 2 × 5</caption>\n",
       "<thead>\n",
       "\t<tr><th scope=col>term</th><th scope=col>estimate</th><th scope=col>std.error</th><th scope=col>statistic</th><th scope=col>p.value</th></tr>\n",
       "\t<tr><th scope=col>&lt;chr&gt;</th><th scope=col>&lt;dbl&gt;</th><th scope=col>&lt;dbl&gt;</th><th scope=col>&lt;dbl&gt;</th><th scope=col>&lt;dbl&gt;</th></tr>\n",
       "</thead>\n",
       "<tbody>\n",
       "\t<tr><td>(Intercept)</td><td> 6.976059e-06</td><td>4.774864e-07</td><td>14.6099646</td><td>1.888112e-26</td></tr>\n",
       "\t<tr><td>sexM       </td><td>-2.390272e-07</td><td>6.855255e-07</td><td>-0.3486773</td><td>7.280720e-01</td></tr>\n",
       "</tbody>\n",
       "</table>\n"
      ],
      "text/latex": [
       "A tibble: 2 × 5\n",
       "\\begin{tabular}{lllll}\n",
       " term & estimate & std.error & statistic & p.value\\\\\n",
       " <chr> & <dbl> & <dbl> & <dbl> & <dbl>\\\\\n",
       "\\hline\n",
       "\t (Intercept) &  6.976059e-06 & 4.774864e-07 & 14.6099646 & 1.888112e-26\\\\\n",
       "\t sexM        & -2.390272e-07 & 6.855255e-07 & -0.3486773 & 7.280720e-01\\\\\n",
       "\\end{tabular}\n"
      ],
      "text/markdown": [
       "\n",
       "A tibble: 2 × 5\n",
       "\n",
       "| term &lt;chr&gt; | estimate &lt;dbl&gt; | std.error &lt;dbl&gt; | statistic &lt;dbl&gt; | p.value &lt;dbl&gt; |\n",
       "|---|---|---|---|---|\n",
       "| (Intercept) |  6.976059e-06 | 4.774864e-07 | 14.6099646 | 1.888112e-26 |\n",
       "| sexM        | -2.390272e-07 | 6.855255e-07 | -0.3486773 | 7.280720e-01 |\n",
       "\n"
      ],
      "text/plain": [
       "  term        estimate      std.error    statistic  p.value     \n",
       "1 (Intercept)  6.976059e-06 4.774864e-07 14.6099646 1.888112e-26\n",
       "2 sexM        -2.390272e-07 6.855255e-07 -0.3486773 7.280720e-01"
      ]
     },
     "metadata": {},
     "output_type": "display_data"
    }
   ],
   "source": [
    "lm_igf1_sex <- lm(IGF1~ sex, data)\n",
    "tidy(lm_igf1_sex)"
   ]
  },
  {
   "cell_type": "code",
   "execution_count": 32,
   "id": "baf61ec2-fa81-4c9d-94db-fde6f7911305",
   "metadata": {},
   "outputs": [
    {
     "data": {
      "text/html": [
       "<table class=\"dataframe\">\n",
       "<caption>A tibble: 3 × 5</caption>\n",
       "<thead>\n",
       "\t<tr><th scope=col>term</th><th scope=col>estimate</th><th scope=col>std.error</th><th scope=col>statistic</th><th scope=col>p.value</th></tr>\n",
       "\t<tr><th scope=col>&lt;chr&gt;</th><th scope=col>&lt;dbl&gt;</th><th scope=col>&lt;dbl&gt;</th><th scope=col>&lt;dbl&gt;</th><th scope=col>&lt;dbl&gt;</th></tr>\n",
       "</thead>\n",
       "<tbody>\n",
       "\t<tr><td>(Intercept)     </td><td>4.270462e-06</td><td>1.271009e-06</td><td>3.359900</td><td>0.00111218</td></tr>\n",
       "\t<tr><td>treatmentsucrose</td><td>3.175543e-06</td><td>1.357066e-06</td><td>2.340006</td><td>0.02131154</td></tr>\n",
       "\t<tr><td>treatmentwater  </td><td>2.335813e-06</td><td>1.368382e-06</td><td>1.706989</td><td>0.09099070</td></tr>\n",
       "</tbody>\n",
       "</table>\n"
      ],
      "text/latex": [
       "A tibble: 3 × 5\n",
       "\\begin{tabular}{lllll}\n",
       " term & estimate & std.error & statistic & p.value\\\\\n",
       " <chr> & <dbl> & <dbl> & <dbl> & <dbl>\\\\\n",
       "\\hline\n",
       "\t (Intercept)      & 4.270462e-06 & 1.271009e-06 & 3.359900 & 0.00111218\\\\\n",
       "\t treatmentsucrose & 3.175543e-06 & 1.357066e-06 & 2.340006 & 0.02131154\\\\\n",
       "\t treatmentwater   & 2.335813e-06 & 1.368382e-06 & 1.706989 & 0.09099070\\\\\n",
       "\\end{tabular}\n"
      ],
      "text/markdown": [
       "\n",
       "A tibble: 3 × 5\n",
       "\n",
       "| term &lt;chr&gt; | estimate &lt;dbl&gt; | std.error &lt;dbl&gt; | statistic &lt;dbl&gt; | p.value &lt;dbl&gt; |\n",
       "|---|---|---|---|---|\n",
       "| (Intercept)      | 4.270462e-06 | 1.271009e-06 | 3.359900 | 0.00111218 |\n",
       "| treatmentsucrose | 3.175543e-06 | 1.357066e-06 | 2.340006 | 0.02131154 |\n",
       "| treatmentwater   | 2.335813e-06 | 1.368382e-06 | 1.706989 | 0.09099070 |\n",
       "\n"
      ],
      "text/plain": [
       "  term             estimate     std.error    statistic p.value   \n",
       "1 (Intercept)      4.270462e-06 1.271009e-06 3.359900  0.00111218\n",
       "2 treatmentsucrose 3.175543e-06 1.357066e-06 2.340006  0.02131154\n",
       "3 treatmentwater   2.335813e-06 1.368382e-06 1.706989  0.09099070"
      ]
     },
     "metadata": {},
     "output_type": "display_data"
    }
   ],
   "source": [
    "lm_igf1_treat <- lm(IGF1~ treatment, data)\n",
    "tidy(lm_igf1_treat)"
   ]
  },
  {
   "cell_type": "code",
   "execution_count": 33,
   "id": "864b8b51-9403-40f0-9d87-bbb572dce468",
   "metadata": {},
   "outputs": [
    {
     "data": {
      "text/html": [
       "<table class=\"dataframe\">\n",
       "<caption>A tibble: 4 × 5</caption>\n",
       "<thead>\n",
       "\t<tr><th scope=col>term</th><th scope=col>estimate</th><th scope=col>std.error</th><th scope=col>statistic</th><th scope=col>p.value</th></tr>\n",
       "\t<tr><th scope=col>&lt;chr&gt;</th><th scope=col>&lt;dbl&gt;</th><th scope=col>&lt;dbl&gt;</th><th scope=col>&lt;dbl&gt;</th><th scope=col>&lt;dbl&gt;</th></tr>\n",
       "</thead>\n",
       "<tbody>\n",
       "\t<tr><td>(Intercept)     </td><td>4.270462e-06</td><td>1.265396e-06</td><td>3.374804</td><td>0.001063318</td></tr>\n",
       "\t<tr><td>stimulushandle  </td><td>2.401795e-06</td><td>1.400997e-06</td><td>1.714346</td><td>0.089658718</td></tr>\n",
       "\t<tr><td>stimulusneedle  </td><td>2.236757e-06</td><td>1.405292e-06</td><td>1.591667</td><td>0.114713379</td></tr>\n",
       "\t<tr><td>stimuluspressure</td><td>3.636199e-06</td><td>1.393155e-06</td><td>2.610047</td><td>0.010487759</td></tr>\n",
       "</tbody>\n",
       "</table>\n"
      ],
      "text/latex": [
       "A tibble: 4 × 5\n",
       "\\begin{tabular}{lllll}\n",
       " term & estimate & std.error & statistic & p.value\\\\\n",
       " <chr> & <dbl> & <dbl> & <dbl> & <dbl>\\\\\n",
       "\\hline\n",
       "\t (Intercept)      & 4.270462e-06 & 1.265396e-06 & 3.374804 & 0.001063318\\\\\n",
       "\t stimulushandle   & 2.401795e-06 & 1.400997e-06 & 1.714346 & 0.089658718\\\\\n",
       "\t stimulusneedle   & 2.236757e-06 & 1.405292e-06 & 1.591667 & 0.114713379\\\\\n",
       "\t stimuluspressure & 3.636199e-06 & 1.393155e-06 & 2.610047 & 0.010487759\\\\\n",
       "\\end{tabular}\n"
      ],
      "text/markdown": [
       "\n",
       "A tibble: 4 × 5\n",
       "\n",
       "| term &lt;chr&gt; | estimate &lt;dbl&gt; | std.error &lt;dbl&gt; | statistic &lt;dbl&gt; | p.value &lt;dbl&gt; |\n",
       "|---|---|---|---|---|\n",
       "| (Intercept)      | 4.270462e-06 | 1.265396e-06 | 3.374804 | 0.001063318 |\n",
       "| stimulushandle   | 2.401795e-06 | 1.400997e-06 | 1.714346 | 0.089658718 |\n",
       "| stimulusneedle   | 2.236757e-06 | 1.405292e-06 | 1.591667 | 0.114713379 |\n",
       "| stimuluspressure | 3.636199e-06 | 1.393155e-06 | 2.610047 | 0.010487759 |\n",
       "\n"
      ],
      "text/plain": [
       "  term             estimate     std.error    statistic p.value    \n",
       "1 (Intercept)      4.270462e-06 1.265396e-06 3.374804  0.001063318\n",
       "2 stimulushandle   2.401795e-06 1.400997e-06 1.714346  0.089658718\n",
       "3 stimulusneedle   2.236757e-06 1.405292e-06 1.591667  0.114713379\n",
       "4 stimuluspressure 3.636199e-06 1.393155e-06 2.610047  0.010487759"
      ]
     },
     "metadata": {},
     "output_type": "display_data"
    }
   ],
   "source": [
    "lm_igf1_stim <- lm(IGF1 ~ stimulus, data)\n",
    "tidy(lm_igf1_stim)"
   ]
  },
  {
   "cell_type": "code",
   "execution_count": null,
   "id": "0a7f15a8-9b2f-48b7-a7aa-f7ba2d150097",
   "metadata": {},
   "outputs": [],
   "source": []
  }
 ],
 "metadata": {
  "kernelspec": {
   "display_name": "R",
   "language": "R",
   "name": "ir"
  },
  "language_info": {
   "codemirror_mode": "r",
   "file_extension": ".r",
   "mimetype": "text/x-r-source",
   "name": "R",
   "pygments_lexer": "r",
   "version": "4.2.1"
  }
 },
 "nbformat": 4,
 "nbformat_minor": 5
}
